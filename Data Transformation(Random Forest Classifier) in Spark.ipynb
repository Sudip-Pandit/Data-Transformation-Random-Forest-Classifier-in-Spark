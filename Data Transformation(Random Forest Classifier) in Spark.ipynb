{
 "cells": [
  {
   "cell_type": "code",
   "execution_count": 67,
   "metadata": {},
   "outputs": [],
   "source": [
    "from pyspark.sql import SparkSession\n",
    "spark = SparkSession \\\n",
    "    .builder \\\n",
    "    .appName('Titanic Data') \\\n",
    "    .getOrCreate()"
   ]
  },
  {
   "cell_type": "code",
   "execution_count": 68,
   "metadata": {},
   "outputs": [
    {
     "data": {
      "text/html": [
       "\n",
       "            <div>\n",
       "                <p><b>SparkSession - in-memory</b></p>\n",
       "                \n",
       "        <div>\n",
       "            <p><b>SparkContext</b></p>\n",
       "\n",
       "            <p><a href=\"http://LAPTOP-HI1JKFEM:4043\">Spark UI</a></p>\n",
       "\n",
       "            <dl>\n",
       "              <dt>Version</dt>\n",
       "                <dd><code>v3.0.1</code></dd>\n",
       "              <dt>Master</dt>\n",
       "                <dd><code>local[*]</code></dd>\n",
       "              <dt>AppName</dt>\n",
       "                <dd><code>Titanic Data</code></dd>\n",
       "            </dl>\n",
       "        </div>\n",
       "        \n",
       "            </div>\n",
       "        "
      ],
      "text/plain": [
       "<pyspark.sql.session.SparkSession at 0x2a65efcf310>"
      ]
     },
     "execution_count": 68,
     "metadata": {},
     "output_type": "execute_result"
    }
   ],
   "source": [
    "spark"
   ]
  },
  {
   "cell_type": "code",
   "execution_count": 69,
   "metadata": {},
   "outputs": [],
   "source": [
    "df = (spark.read\n",
    "          .format(\"csv\")\n",
    "          .option('header', 'true')\n",
    "          .load(\"train.csv\"))"
   ]
  },
  {
   "cell_type": "code",
   "execution_count": 70,
   "metadata": {},
   "outputs": [
    {
     "name": "stdout",
     "output_type": "stream",
     "text": [
      "+-----------+--------+------+--------------------+------+---+-----+-----+----------------+-------+-----+--------+\n",
      "|PassengerId|Survived|Pclass|                Name|   Sex|Age|SibSp|Parch|          Ticket|   Fare|Cabin|Embarked|\n",
      "+-----------+--------+------+--------------------+------+---+-----+-----+----------------+-------+-----+--------+\n",
      "|          1|       0|     3|Braund, Mr. Owen ...|  male| 22|    1|    0|       A/5 21171|   7.25| null|       S|\n",
      "|          2|       1|     1|Cumings, Mrs. Joh...|female| 38|    1|    0|        PC 17599|71.2833|  C85|       C|\n",
      "|          3|       1|     3|Heikkinen, Miss. ...|female| 26|    0|    0|STON/O2. 3101282|  7.925| null|       S|\n",
      "|          4|       1|     1|Futrelle, Mrs. Ja...|female| 35|    1|    0|          113803|   53.1| C123|       S|\n",
      "|          5|       0|     3|Allen, Mr. Willia...|  male| 35|    0|    0|          373450|   8.05| null|       S|\n",
      "+-----------+--------+------+--------------------+------+---+-----+-----+----------------+-------+-----+--------+\n",
      "only showing top 5 rows\n",
      "\n"
     ]
    }
   ],
   "source": [
    "df.show(5)"
   ]
  },
  {
   "cell_type": "code",
   "execution_count": 71,
   "metadata": {},
   "outputs": [
    {
     "data": {
      "text/plain": [
       "['PassengerId',\n",
       " 'Survived',\n",
       " 'Pclass',\n",
       " 'Name',\n",
       " 'Sex',\n",
       " 'Age',\n",
       " 'SibSp',\n",
       " 'Parch',\n",
       " 'Ticket',\n",
       " 'Fare',\n",
       " 'Cabin',\n",
       " 'Embarked']"
      ]
     },
     "execution_count": 71,
     "metadata": {},
     "output_type": "execute_result"
    }
   ],
   "source": [
    "df.columns"
   ]
  },
  {
   "cell_type": "code",
   "execution_count": 72,
   "metadata": {},
   "outputs": [],
   "source": [
    "from pyspark.sql.functions import mean, min, max"
   ]
  },
  {
   "cell_type": "code",
   "execution_count": 73,
   "metadata": {},
   "outputs": [
    {
     "data": {
      "text/plain": [
       "[Row(PassengerId='1', Survived='0', Pclass='3', Name='Braund, Mr. Owen Harris', Sex='male', Age='22', SibSp='1', Parch='0', Ticket='A/5 21171', Fare='7.25', Cabin=None, Embarked='S'),\n",
       " Row(PassengerId='2', Survived='1', Pclass='1', Name='Cumings, Mrs. John Bradley (Florence Briggs Thayer)', Sex='female', Age='38', SibSp='1', Parch='0', Ticket='PC 17599', Fare='71.2833', Cabin='C85', Embarked='C'),\n",
       " Row(PassengerId='3', Survived='1', Pclass='3', Name='Heikkinen, Miss. Laina', Sex='female', Age='26', SibSp='0', Parch='0', Ticket='STON/O2. 3101282', Fare='7.925', Cabin=None, Embarked='S')]"
      ]
     },
     "execution_count": 73,
     "metadata": {},
     "output_type": "execute_result"
    }
   ],
   "source": [
    "df.rdd.take(3)"
   ]
  },
  {
   "cell_type": "code",
   "execution_count": 74,
   "metadata": {},
   "outputs": [
    {
     "name": "stdout",
     "output_type": "stream",
     "text": [
      "+-------+-----------------+-------------------+------------------+--------------------+------+------------------+------------------+-------------------+------------------+-----------------+-----+--------+\n",
      "|summary|      PassengerId|           Survived|            Pclass|                Name|   Sex|               Age|             SibSp|              Parch|            Ticket|             Fare|Cabin|Embarked|\n",
      "+-------+-----------------+-------------------+------------------+--------------------+------+------------------+------------------+-------------------+------------------+-----------------+-----+--------+\n",
      "|  count|              891|                891|               891|                 891|   891|               714|               891|                891|               891|              891|  204|     889|\n",
      "|   mean|            446.0| 0.3838383838383838| 2.308641975308642|                null|  null| 29.69911764705882|0.5230078563411896|0.38159371492704824|260318.54916792738| 32.2042079685746| null|    null|\n",
      "| stddev|257.3538420152301|0.48659245426485753|0.8360712409770491|                null|  null|14.526497332334035|1.1027434322934315| 0.8060572211299488|471609.26868834975|49.69342859718089| null|    null|\n",
      "|    min|                1|                  0|                 1|\"Andersson, Mr. A...|female|              0.42|                 0|                  0|            110152|                0|  A10|       C|\n",
      "|    max|               99|                  1|                 3|van Melkebeke, Mr...|  male|                 9|                 8|                  6|         WE/P 5735|             93.5|    T|       S|\n",
      "+-------+-----------------+-------------------+------------------+--------------------+------+------------------+------------------+-------------------+------------------+-----------------+-----+--------+\n",
      "\n"
     ]
    }
   ],
   "source": [
    "df.describe().show()"
   ]
  },
  {
   "cell_type": "markdown",
   "metadata": {},
   "source": [
    "### Conversion to Pandas dataframe"
   ]
  },
  {
   "cell_type": "code",
   "execution_count": 75,
   "metadata": {},
   "outputs": [
    {
     "data": {
      "text/html": [
       "<div>\n",
       "<style scoped>\n",
       "    .dataframe tbody tr th:only-of-type {\n",
       "        vertical-align: middle;\n",
       "    }\n",
       "\n",
       "    .dataframe tbody tr th {\n",
       "        vertical-align: top;\n",
       "    }\n",
       "\n",
       "    .dataframe thead th {\n",
       "        text-align: right;\n",
       "    }\n",
       "</style>\n",
       "<table border=\"1\" class=\"dataframe\">\n",
       "  <thead>\n",
       "    <tr style=\"text-align: right;\">\n",
       "      <th></th>\n",
       "      <th>PassengerId</th>\n",
       "      <th>Survived</th>\n",
       "      <th>Pclass</th>\n",
       "      <th>Name</th>\n",
       "      <th>Sex</th>\n",
       "      <th>Age</th>\n",
       "      <th>SibSp</th>\n",
       "      <th>Parch</th>\n",
       "      <th>Ticket</th>\n",
       "      <th>Fare</th>\n",
       "      <th>Cabin</th>\n",
       "      <th>Embarked</th>\n",
       "    </tr>\n",
       "  </thead>\n",
       "  <tbody>\n",
       "    <tr>\n",
       "      <th>0</th>\n",
       "      <td>1</td>\n",
       "      <td>0</td>\n",
       "      <td>3</td>\n",
       "      <td>Braund, Mr. Owen Harris</td>\n",
       "      <td>male</td>\n",
       "      <td>22</td>\n",
       "      <td>1</td>\n",
       "      <td>0</td>\n",
       "      <td>A/5 21171</td>\n",
       "      <td>7.25</td>\n",
       "      <td>None</td>\n",
       "      <td>S</td>\n",
       "    </tr>\n",
       "    <tr>\n",
       "      <th>1</th>\n",
       "      <td>2</td>\n",
       "      <td>1</td>\n",
       "      <td>1</td>\n",
       "      <td>Cumings, Mrs. John Bradley (Florence Briggs Th...</td>\n",
       "      <td>female</td>\n",
       "      <td>38</td>\n",
       "      <td>1</td>\n",
       "      <td>0</td>\n",
       "      <td>PC 17599</td>\n",
       "      <td>71.2833</td>\n",
       "      <td>C85</td>\n",
       "      <td>C</td>\n",
       "    </tr>\n",
       "    <tr>\n",
       "      <th>2</th>\n",
       "      <td>3</td>\n",
       "      <td>1</td>\n",
       "      <td>3</td>\n",
       "      <td>Heikkinen, Miss. Laina</td>\n",
       "      <td>female</td>\n",
       "      <td>26</td>\n",
       "      <td>0</td>\n",
       "      <td>0</td>\n",
       "      <td>STON/O2. 3101282</td>\n",
       "      <td>7.925</td>\n",
       "      <td>None</td>\n",
       "      <td>S</td>\n",
       "    </tr>\n",
       "    <tr>\n",
       "      <th>3</th>\n",
       "      <td>4</td>\n",
       "      <td>1</td>\n",
       "      <td>1</td>\n",
       "      <td>Futrelle, Mrs. Jacques Heath (Lily May Peel)</td>\n",
       "      <td>female</td>\n",
       "      <td>35</td>\n",
       "      <td>1</td>\n",
       "      <td>0</td>\n",
       "      <td>113803</td>\n",
       "      <td>53.1</td>\n",
       "      <td>C123</td>\n",
       "      <td>S</td>\n",
       "    </tr>\n",
       "    <tr>\n",
       "      <th>4</th>\n",
       "      <td>5</td>\n",
       "      <td>0</td>\n",
       "      <td>3</td>\n",
       "      <td>Allen, Mr. William Henry</td>\n",
       "      <td>male</td>\n",
       "      <td>35</td>\n",
       "      <td>0</td>\n",
       "      <td>0</td>\n",
       "      <td>373450</td>\n",
       "      <td>8.05</td>\n",
       "      <td>None</td>\n",
       "      <td>S</td>\n",
       "    </tr>\n",
       "  </tbody>\n",
       "</table>\n",
       "</div>"
      ],
      "text/plain": [
       "  PassengerId Survived Pclass  \\\n",
       "0           1        0      3   \n",
       "1           2        1      1   \n",
       "2           3        1      3   \n",
       "3           4        1      1   \n",
       "4           5        0      3   \n",
       "\n",
       "                                                Name     Sex Age SibSp Parch  \\\n",
       "0                            Braund, Mr. Owen Harris    male  22     1     0   \n",
       "1  Cumings, Mrs. John Bradley (Florence Briggs Th...  female  38     1     0   \n",
       "2                             Heikkinen, Miss. Laina  female  26     0     0   \n",
       "3       Futrelle, Mrs. Jacques Heath (Lily May Peel)  female  35     1     0   \n",
       "4                           Allen, Mr. William Henry    male  35     0     0   \n",
       "\n",
       "             Ticket     Fare Cabin Embarked  \n",
       "0         A/5 21171     7.25  None        S  \n",
       "1          PC 17599  71.2833   C85        C  \n",
       "2  STON/O2. 3101282    7.925  None        S  \n",
       "3            113803     53.1  C123        S  \n",
       "4            373450     8.05  None        S  "
      ]
     },
     "execution_count": 75,
     "metadata": {},
     "output_type": "execute_result"
    }
   ],
   "source": [
    "pdf=df.toPandas()\n",
    "pdf.head()"
   ]
  },
  {
   "cell_type": "markdown",
   "metadata": {},
   "source": [
    "### Print schemas"
   ]
  },
  {
   "cell_type": "code",
   "execution_count": 76,
   "metadata": {},
   "outputs": [
    {
     "name": "stdout",
     "output_type": "stream",
     "text": [
      "root\n",
      " |-- PassengerId: string (nullable = true)\n",
      " |-- Survived: string (nullable = true)\n",
      " |-- Pclass: string (nullable = true)\n",
      " |-- Name: string (nullable = true)\n",
      " |-- Sex: string (nullable = true)\n",
      " |-- Age: string (nullable = true)\n",
      " |-- SibSp: string (nullable = true)\n",
      " |-- Parch: string (nullable = true)\n",
      " |-- Ticket: string (nullable = true)\n",
      " |-- Fare: string (nullable = true)\n",
      " |-- Cabin: string (nullable = true)\n",
      " |-- Embarked: string (nullable = true)\n",
      "\n"
     ]
    }
   ],
   "source": [
    "df.printSchema()"
   ]
  },
  {
   "cell_type": "code",
   "execution_count": 77,
   "metadata": {},
   "outputs": [
    {
     "data": {
      "text/plain": [
       "[('PassengerId', 'string'),\n",
       " ('Survived', 'string'),\n",
       " ('Pclass', 'string'),\n",
       " ('Name', 'string'),\n",
       " ('Sex', 'string'),\n",
       " ('Age', 'string'),\n",
       " ('SibSp', 'string'),\n",
       " ('Parch', 'string'),\n",
       " ('Ticket', 'string'),\n",
       " ('Fare', 'string'),\n",
       " ('Cabin', 'string'),\n",
       " ('Embarked', 'string')]"
      ]
     },
     "execution_count": 77,
     "metadata": {},
     "output_type": "execute_result"
    }
   ],
   "source": [
    "df.dtypes"
   ]
  },
  {
   "cell_type": "markdown",
   "metadata": {},
   "source": [
    "### Data manipulation\n",
    "+ Selecting only few columns"
   ]
  },
  {
   "cell_type": "code",
   "execution_count": 78,
   "metadata": {},
   "outputs": [
    {
     "name": "stdout",
     "output_type": "stream",
     "text": [
      "+------+------+----+-----+-----+----------------+-------+-----+--------+\n",
      "|Pclass|   Sex| Age|SibSp|Parch|          Ticket|   Fare|Cabin|Embarked|\n",
      "+------+------+----+-----+-----+----------------+-------+-----+--------+\n",
      "|     3|  male|  22|    1|    0|       A/5 21171|   7.25| null|       S|\n",
      "|     1|female|  38|    1|    0|        PC 17599|71.2833|  C85|       C|\n",
      "|     3|female|  26|    0|    0|STON/O2. 3101282|  7.925| null|       S|\n",
      "|     1|female|  35|    1|    0|          113803|   53.1| C123|       S|\n",
      "|     3|  male|  35|    0|    0|          373450|   8.05| null|       S|\n",
      "|     3|  male|null|    0|    0|          330877| 8.4583| null|       Q|\n",
      "|     1|  male|  54|    0|    0|           17463|51.8625|  E46|       S|\n",
      "|     3|  male|   2|    3|    1|          349909| 21.075| null|       S|\n",
      "|     3|female|  27|    0|    2|          347742|11.1333| null|       S|\n",
      "|     2|female|  14|    1|    0|          237736|30.0708| null|       C|\n",
      "|     3|female|   4|    1|    1|         PP 9549|   16.7|   G6|       S|\n",
      "|     1|female|  58|    0|    0|          113783|  26.55| C103|       S|\n",
      "|     3|  male|  20|    0|    0|       A/5. 2151|   8.05| null|       S|\n",
      "|     3|  male|  39|    1|    5|          347082| 31.275| null|       S|\n",
      "|     3|female|  14|    0|    0|          350406| 7.8542| null|       S|\n",
      "|     2|female|  55|    0|    0|          248706|     16| null|       S|\n",
      "|     3|  male|   2|    4|    1|          382652| 29.125| null|       Q|\n",
      "|     2|  male|null|    0|    0|          244373|     13| null|       S|\n",
      "|     3|female|  31|    1|    0|          345763|     18| null|       S|\n",
      "|     3|female|null|    0|    0|            2649|  7.225| null|       C|\n",
      "+------+------+----+-----+-----+----------------+-------+-----+--------+\n",
      "only showing top 20 rows\n",
      "\n"
     ]
    }
   ],
   "source": [
    "df.select(['Pclass', 'Sex', 'Age', 'SibSp', 'Parch', 'Ticket', 'Fare', 'Cabin', 'Embarked']).show()"
   ]
  },
  {
   "cell_type": "markdown",
   "metadata": {},
   "source": [
    "### Use groupby funtion"
   ]
  },
  {
   "cell_type": "code",
   "execution_count": 79,
   "metadata": {},
   "outputs": [
    {
     "name": "stdout",
     "output_type": "stream",
     "text": [
      "+-----------------+-----+\n",
      "|           Ticket|count|\n",
      "+-----------------+-----+\n",
      "|        WE/P 5735|    2|\n",
      "|        W/C 14208|    1|\n",
      "|      W.E.P. 5734|    1|\n",
      "|       W./C. 6609|    1|\n",
      "|       W./C. 6608|    4|\n",
      "|       W./C. 6607|    2|\n",
      "|      W./C. 14263|    1|\n",
      "|      W./C. 14258|    1|\n",
      "|        SW/PP 751|    1|\n",
      "| STON/O2. 3101290|    1|\n",
      "| STON/O2. 3101283|    1|\n",
      "| STON/O2. 3101282|    1|\n",
      "| STON/O2. 3101279|    2|\n",
      "| STON/O2. 3101271|    1|\n",
      "|STON/O 2. 3101294|    1|\n",
      "|STON/O 2. 3101293|    1|\n",
      "|STON/O 2. 3101292|    1|\n",
      "|STON/O 2. 3101289|    1|\n",
      "|STON/O 2. 3101288|    1|\n",
      "|STON/O 2. 3101286|    1|\n",
      "+-----------------+-----+\n",
      "only showing top 20 rows\n",
      "\n"
     ]
    }
   ],
   "source": [
    "df.groupBy(\"Ticket\").count().sort(\"Ticket\",ascending=False).show()"
   ]
  },
  {
   "cell_type": "code",
   "execution_count": 80,
   "metadata": {},
   "outputs": [
    {
     "name": "stdout",
     "output_type": "stream",
     "text": [
      "+--------+-----+\n",
      "|Embarked|count|\n",
      "+--------+-----+\n",
      "|       S|  644|\n",
      "|       Q|   77|\n",
      "|       C|  168|\n",
      "|    null|    2|\n",
      "+--------+-----+\n",
      "\n"
     ]
    }
   ],
   "source": [
    "df.groupBy(\"Embarked\").count().sort(\"Embarked\",ascending=False).show()"
   ]
  },
  {
   "cell_type": "markdown",
   "metadata": {},
   "source": [
    "### Filtering rows"
   ]
  },
  {
   "cell_type": "code",
   "execution_count": 81,
   "metadata": {},
   "outputs": [
    {
     "name": "stdout",
     "output_type": "stream",
     "text": [
      "+-----------+--------+------+--------------------+------+---+-----+-----+----------------+-------+-----------+--------+\n",
      "|PassengerId|Survived|Pclass|                Name|   Sex|Age|SibSp|Parch|          Ticket|   Fare|      Cabin|Embarked|\n",
      "+-----------+--------+------+--------------------+------+---+-----+-----+----------------+-------+-----------+--------+\n",
      "|          1|       0|     3|Braund, Mr. Owen ...|  male| 22|    1|    0|       A/5 21171|   7.25|       null|       S|\n",
      "|          3|       1|     3|Heikkinen, Miss. ...|female| 26|    0|    0|STON/O2. 3101282|  7.925|       null|       S|\n",
      "|          8|       0|     3|Palsson, Master. ...|  male|  2|    3|    1|          349909| 21.075|       null|       S|\n",
      "|          9|       1|     3|Johnson, Mrs. Osc...|female| 27|    0|    2|          347742|11.1333|       null|       S|\n",
      "|         10|       1|     2|Nasser, Mrs. Nich...|female| 14|    1|    0|          237736|30.0708|       null|       C|\n",
      "|         11|       1|     3|Sandstrom, Miss. ...|female|  4|    1|    1|         PP 9549|   16.7|         G6|       S|\n",
      "|         13|       0|     3|Saundercock, Mr. ...|  male| 20|    0|    0|       A/5. 2151|   8.05|       null|       S|\n",
      "|         15|       0|     3|Vestrom, Miss. Hu...|female| 14|    0|    0|          350406| 7.8542|       null|       S|\n",
      "|         17|       0|     3|Rice, Master. Eugene|  male|  2|    4|    1|          382652| 29.125|       null|       Q|\n",
      "|         23|       1|     3|\"McGowan, Miss. A...|female| 15|    0|    0|          330923| 8.0292|       null|       Q|\n",
      "|         24|       1|     1|Sloper, Mr. Willi...|  male| 28|    0|    0|          113788|   35.5|         A6|       S|\n",
      "|         25|       0|     3|Palsson, Miss. To...|female|  8|    3|    1|          349909| 21.075|       null|       S|\n",
      "|         28|       0|     1|Fortune, Mr. Char...|  male| 19|    3|    2|           19950|    263|C23 C25 C27|       S|\n",
      "|         35|       0|     1|Meyer, Mr. Edgar ...|  male| 28|    1|    0|        PC 17604|82.1708|       null|       C|\n",
      "|         38|       0|     3|Cann, Mr. Ernest ...|  male| 21|    0|    0|      A./5. 2152|   8.05|       null|       S|\n",
      "|         39|       0|     3|Vander Planke, Mi...|female| 18|    2|    0|          345764|     18|       null|       S|\n",
      "|         40|       1|     3|Nicola-Yarred, Mi...|female| 14|    1|    0|            2651|11.2417|       null|       C|\n",
      "|         42|       0|     2|Turpin, Mrs. Will...|female| 27|    1|    0|           11668|     21|       null|       S|\n",
      "|         44|       1|     2|Laroche, Miss. Si...|female|  3|    1|    2|   SC/Paris 2123|41.5792|       null|       C|\n",
      "|         45|       1|     3|Devaney, Miss. Ma...|female| 19|    0|    0|          330958| 7.8792|       null|       Q|\n",
      "+-----------+--------+------+--------------------+------+---+-----+-----+----------------+-------+-----------+--------+\n",
      "only showing top 20 rows\n",
      "\n"
     ]
    }
   ],
   "source": [
    "df.filter(df['Age'] < 30).show()"
   ]
  },
  {
   "cell_type": "markdown",
   "metadata": {},
   "source": [
    "### withColumn"
   ]
  },
  {
   "cell_type": "code",
   "execution_count": 82,
   "metadata": {},
   "outputs": [
    {
     "name": "stdout",
     "output_type": "stream",
     "text": [
      "+-----------+--------+------+--------------------+------+----+-----+-----+----------------+-------+-----+--------+\n",
      "|PassengerId|Survived|Pclass|                Name|   Sex| Age|SibSp|Parch|          Ticket|   Fare|Cabin|Embarked|\n",
      "+-----------+--------+------+--------------------+------+----+-----+-----+----------------+-------+-----+--------+\n",
      "|          1|       0|     3|Braund, Mr. Owen ...|  male|11.0|    1|    0|       A/5 21171|   7.25| null|       S|\n",
      "|          2|       1|     1|Cumings, Mrs. Joh...|female|19.0|    1|    0|        PC 17599|71.2833|  C85|       C|\n",
      "|          3|       1|     3|Heikkinen, Miss. ...|female|13.0|    0|    0|STON/O2. 3101282|  7.925| null|       S|\n",
      "|          4|       1|     1|Futrelle, Mrs. Ja...|female|17.5|    1|    0|          113803|   53.1| C123|       S|\n",
      "|          5|       0|     3|Allen, Mr. Willia...|  male|17.5|    0|    0|          373450|   8.05| null|       S|\n",
      "|          6|       0|     3|    Moran, Mr. James|  male|null|    0|    0|          330877| 8.4583| null|       Q|\n",
      "|          7|       0|     1|McCarthy, Mr. Tim...|  male|27.0|    0|    0|           17463|51.8625|  E46|       S|\n",
      "|          8|       0|     3|Palsson, Master. ...|  male| 1.0|    3|    1|          349909| 21.075| null|       S|\n",
      "|          9|       1|     3|Johnson, Mrs. Osc...|female|13.5|    0|    2|          347742|11.1333| null|       S|\n",
      "|         10|       1|     2|Nasser, Mrs. Nich...|female| 7.0|    1|    0|          237736|30.0708| null|       C|\n",
      "|         11|       1|     3|Sandstrom, Miss. ...|female| 2.0|    1|    1|         PP 9549|   16.7|   G6|       S|\n",
      "|         12|       1|     1|Bonnell, Miss. El...|female|29.0|    0|    0|          113783|  26.55| C103|       S|\n",
      "|         13|       0|     3|Saundercock, Mr. ...|  male|10.0|    0|    0|       A/5. 2151|   8.05| null|       S|\n",
      "|         14|       0|     3|Andersson, Mr. An...|  male|19.5|    1|    5|          347082| 31.275| null|       S|\n",
      "|         15|       0|     3|Vestrom, Miss. Hu...|female| 7.0|    0|    0|          350406| 7.8542| null|       S|\n",
      "|         16|       1|     2|Hewlett, Mrs. (Ma...|female|27.5|    0|    0|          248706|     16| null|       S|\n",
      "|         17|       0|     3|Rice, Master. Eugene|  male| 1.0|    4|    1|          382652| 29.125| null|       Q|\n",
      "|         18|       1|     2|Williams, Mr. Cha...|  male|null|    0|    0|          244373|     13| null|       S|\n",
      "|         19|       0|     3|Vander Planke, Mr...|female|15.5|    1|    0|          345763|     18| null|       S|\n",
      "|         20|       1|     3|Masselmani, Mrs. ...|female|null|    0|    0|            2649|  7.225| null|       C|\n",
      "+-----------+--------+------+--------------------+------+----+-----+-----+----------------+-------+-----+--------+\n",
      "only showing top 20 rows\n",
      "\n"
     ]
    }
   ],
   "source": [
    "df.withColumn('Age', df['Age']/2).show()"
   ]
  },
  {
   "cell_type": "markdown",
   "metadata": {},
   "source": [
    "### Sorting "
   ]
  },
  {
   "cell_type": "code",
   "execution_count": 83,
   "metadata": {},
   "outputs": [
    {
     "name": "stdout",
     "output_type": "stream",
     "text": [
      "+-----------+--------+------+--------------------+------+----+-----+-----+----------+-------+-----+--------+\n",
      "|PassengerId|Survived|Pclass|                Name|   Sex| Age|SibSp|Parch|    Ticket|   Fare|Cabin|Embarked|\n",
      "+-----------+--------+------+--------------------+------+----+-----+-----+----------+-------+-----+--------+\n",
      "|        147|       1|     3|\"Andersson, Mr. A...|  male|  27|    0|    0|    350043| 7.7958| null|       S|\n",
      "|        519|       1|     2|\"Angle, Mrs. Will...|female|  36|    1|    0|    226875|     26| null|       S|\n",
      "|        291|       1|     1|\"Barber, Miss. El...|female|  26|    0|    0|     19877|  78.85| null|       S|\n",
      "|        625|       0|     3|\"Bowen, Mr. David...|  male|  21|    0|    0|     54636|   16.1| null|       S|\n",
      "|        508|       1|     1|\"Bradley, Mr. Geo...|  male|null|    0|    0|    111427|  26.55| null|       S|\n",
      "|        346|       1|     2|\"Brown, Miss. Ame...|female|  24|    0|    0|    248733|     13|  F33|       S|\n",
      "|        209|       1|     3|\"Carr, Miss. Hele...|female|  16|    0|    0|    367231|   7.75| null|       Q|\n",
      "|        205|       1|     3|\"Cohen, Mr. Gursh...|  male|  18|    0|    0|  A/5 3540|   8.05| null|       S|\n",
      "|        238|       1|     2|\"Collyer, Miss. M...|female|   8|    0|    2|C.A. 31921|  26.25| null|       S|\n",
      "|        490|       1|     3|\"Coutts, Master. ...|  male|   9|    1|    1|C.A. 37671|   15.9| null|       S|\n",
      "|        349|       1|     3|\"Coutts, Master. ...|  male|   3|    1|    1|C.A. 37671|   15.9| null|       S|\n",
      "|        557|       1|     1|\"Duff Gordon, Lad...|female|  48|    1|    0|     11755|   39.6|  A16|       C|\n",
      "|        600|       1|     1|\"Duff Gordon, Sir...|  male|  49|    1|    0|  PC 17485|56.9292|  A20|       C|\n",
      "|        573|       1|     1|\"Flynn, Mr. John ...|  male|  36|    0|    0|  PC 17474|26.3875|  E25|       S|\n",
      "|        437|       0|     3|\"Ford, Miss. Dool...|female|  21|    2|    2|W./C. 6608| 34.375| null|       S|\n",
      "|        148|       0|     3|\"Ford, Miss. Robi...|female|   9|    2|    2|W./C. 6608| 34.375| null|       S|\n",
      "|        482|       0|     2|\"Frost, Mr. Antho...|  male|null|    0|    0|    239854|      0| null|       S|\n",
      "|        157|       1|     3|\"Gilnagh, Miss. K...|female|  16|    0|    0|     35851| 7.7333| null|       Q|\n",
      "|        166|       1|     3|\"Goldsmith, Maste...|  male|   9|    0|    2|    363291| 20.525| null|       S|\n",
      "|        721|       1|     2|\"Harper, Miss. An...|female|   6|    0|    1|    248727|     33| null|       S|\n",
      "+-----------+--------+------+--------------------+------+----+-----+-----+----------+-------+-----+--------+\n",
      "only showing top 20 rows\n",
      "\n"
     ]
    }
   ],
   "source": [
    "df.sort(df['Name']).show()"
   ]
  },
  {
   "cell_type": "code",
   "execution_count": 84,
   "metadata": {},
   "outputs": [
    {
     "name": "stdout",
     "output_type": "stream",
     "text": [
      "+-----------+--------+------+--------------------+------+----+-----+-----+----------------+--------+-----+--------+\n",
      "|PassengerId|Survived|Pclass|                Name|   Sex| Age|SibSp|Parch|          Ticket|    Fare|Cabin|Embarked|\n",
      "+-----------+--------+------+--------------------+------+----+-----+-----+----------------+--------+-----+--------+\n",
      "|        869|       0|     3|van Melkebeke, Mr...|  male|null|    0|    0|          345777|     9.5| null|       S|\n",
      "|        154|       0|     3|van Billiard, Mr....|  male|40.5|    0|    2|        A/5. 851|    14.5| null|       S|\n",
      "|        362|       0|     2|del Carlo, Mr. Se...|  male|  29|    1|    0|   SC/PARIS 2167| 27.7208| null|       C|\n",
      "|        283|       0|     3|de Pelsmaeker, Mr...|  male|  16|    0|    0|          345778|     9.5| null|       S|\n",
      "|        287|       1|     3|de Mulder, Mr. Th...|  male|  30|    0|    0|          345774|     9.5| null|       S|\n",
      "|        560|       1|     3|de Messemaeker, M...|female|  36|    1|    0|          345572|    17.4| null|       S|\n",
      "|        423|       0|     3|  Zimmerman, Mr. Leo|  male|  29|    0|    0|          315082|   7.875| null|       S|\n",
      "|        241|       0|     3|Zabour, Miss. Tha...|female|null|    1|    0|            2665| 14.4542| null|       C|\n",
      "|        112|       0|     3|Zabour, Miss. Hileni|female|14.5|    1|    0|            2665| 14.4542| null|       C|\n",
      "|        496|       0|     3|Yousseff, Mr. Ger...|  male|null|    0|    0|            2627| 14.4583| null|       C|\n",
      "|        355|       0|     3|   Yousif, Mr. Wazli|  male|null|    0|    0|            2647|   7.225| null|       C|\n",
      "|        204|       0|     3|Youseff, Mr. Gerious|  male|45.5|    0|    0|            2628|   7.225| null|       C|\n",
      "|        326|       1|     1|Young, Miss. Mari...|female|  36|    0|    0|        PC 17760|135.6333|  C32|       C|\n",
      "|        831|       1|     3|Yasbeck, Mrs. Ant...|female|  15|    1|    0|            2659| 14.4542| null|       C|\n",
      "|        621|       0|     3| Yasbeck, Mr. Antoni|  male|  27|    1|    0|            2659| 14.4542| null|       C|\n",
      "|        556|       0|     1|  Wright, Mr. George|  male|  62|    0|    0|          113807|   26.55| null|       S|\n",
      "|         56|       1|     1|   Woolner, Mr. Hugh|  male|null|    0|    0|           19947|    35.5|  C52|       S|\n",
      "|        426|       0|     3|Wiseman, Mr. Phil...|  male|null|    0|    0|      A/4. 34244|    7.25| null|       S|\n",
      "|        492|       0|     3| Windelov, Mr. Einar|  male|  21|    0|    0|SOTON/OQ 3101317|    7.25| null|       S|\n",
      "|        352|       0|     1|Williams-Lambert,...|  male|null|    0|    0|          113510|      35| C128|       S|\n",
      "+-----------+--------+------+--------------------+------+----+-----+-----+----------------+--------+-----+--------+\n",
      "only showing top 20 rows\n",
      "\n"
     ]
    }
   ],
   "source": [
    "df.sort(df['Name'].desc()).show()"
   ]
  },
  {
   "cell_type": "markdown",
   "metadata": {},
   "source": [
    "### Summarizing"
   ]
  },
  {
   "cell_type": "code",
   "execution_count": 85,
   "metadata": {},
   "outputs": [
    {
     "name": "stdout",
     "output_type": "stream",
     "text": [
      "+----------------+\n",
      "|       avg(Fare)|\n",
      "+----------------+\n",
      "|32.2042079685746|\n",
      "+----------------+\n",
      "\n"
     ]
    }
   ],
   "source": [
    "df.agg(\n",
    "    {'Fare': 'mean'}\n",
    ").show()"
   ]
  },
  {
   "cell_type": "code",
   "execution_count": 86,
   "metadata": {},
   "outputs": [
    {
     "name": "stdout",
     "output_type": "stream",
     "text": [
      "+------------------+\n",
      "|     avg(Survived)|\n",
      "+------------------+\n",
      "|0.3838383838383838|\n",
      "+------------------+\n",
      "\n"
     ]
    }
   ],
   "source": [
    "df.agg(\n",
    "    {'Survived': 'mean'}\n",
    ").show()"
   ]
  },
  {
   "cell_type": "code",
   "execution_count": 87,
   "metadata": {},
   "outputs": [
    {
     "name": "stdout",
     "output_type": "stream",
     "text": [
      "+----------------+---+----+\n",
      "|             avg|min| max|\n",
      "+----------------+---+----+\n",
      "|32.2042079685746|  0|93.5|\n",
      "+----------------+---+----+\n",
      "\n"
     ]
    }
   ],
   "source": [
    "import pyspark.sql.functions as F\n",
    "df.agg(\n",
    "    F.mean(df.Fare).alias('avg'),\n",
    "    F.min(df.Fare).alias('min'),\n",
    "    F.max(df.Fare).alias('max')\n",
    ").show()"
   ]
  },
  {
   "cell_type": "markdown",
   "metadata": {},
   "source": [
    "### Split-Apply-Combine"
   ]
  },
  {
   "cell_type": "code",
   "execution_count": 88,
   "metadata": {},
   "outputs": [
    {
     "name": "stdout",
     "output_type": "stream",
     "text": [
      "+----+----------+------------------+\n",
      "| Age|count(Sex)|         avg(Fare)|\n",
      "+----+----------+------------------+\n",
      "|20.5|         1|              7.25|\n",
      "|   7|         3|           31.6875|\n",
      "|  51|         7|28.752385714285715|\n",
      "|0.75|         2|           19.2583|\n",
      "|  54|         8|44.477087499999996|\n",
      "|  15|         5| 49.65501999999999|\n",
      "|  11|         4|         54.240625|\n",
      "|  29|        20|27.090825000000002|\n",
      "|  42|        13|37.125646153846155|\n",
      "|  64|         2|             144.5|\n",
      "|   3|         6|          25.78195|\n",
      "|  30|        25|         25.541668|\n",
      "|  34|        15| 16.63638666666667|\n",
      "|  59|         2|            10.375|\n",
      "|24.5|         1|              8.05|\n",
      "|   8|         4|              28.3|\n",
      "|70.5|         1|              7.75|\n",
      "|  22|        27| 25.50478148148148|\n",
      "|  28|        25|21.020159999999997|\n",
      "|  35|        18| 89.31249999999999|\n",
      "+----+----------+------------------+\n",
      "only showing top 20 rows\n",
      "\n"
     ]
    }
   ],
   "source": [
    "df.groupby('Age').agg({'Fare': 'mean', 'Sex': 'count'}).show()"
   ]
  },
  {
   "cell_type": "markdown",
   "metadata": {},
   "source": [
    "### Data preparation and feature engineering\n",
    "+ Columns are all string types"
   ]
  },
  {
   "cell_type": "code",
   "execution_count": 89,
   "metadata": {},
   "outputs": [
    {
     "name": "stdout",
     "output_type": "stream",
     "text": [
      "+--------+------+------+----+-------+--------+\n",
      "|Survived|Pclass|   Sex| Age|   Fare|Embarked|\n",
      "+--------+------+------+----+-------+--------+\n",
      "|     0.0|   3.0|  male|22.0|   7.25|       S|\n",
      "|     1.0|   1.0|female|38.0|71.2833|       C|\n",
      "|     1.0|   3.0|female|26.0|  7.925|       S|\n",
      "|     1.0|   1.0|female|35.0|   53.1|       S|\n",
      "|     0.0|   3.0|  male|35.0|   8.05|       S|\n",
      "|     0.0|   3.0|  male|null| 8.4583|       Q|\n",
      "|     0.0|   1.0|  male|54.0|51.8625|       S|\n",
      "|     0.0|   3.0|  male| 2.0| 21.075|       S|\n",
      "|     1.0|   3.0|female|27.0|11.1333|       S|\n",
      "|     1.0|   2.0|female|14.0|30.0708|       C|\n",
      "|     1.0|   3.0|female| 4.0|   16.7|       S|\n",
      "|     1.0|   1.0|female|58.0|  26.55|       S|\n",
      "|     0.0|   3.0|  male|20.0|   8.05|       S|\n",
      "|     0.0|   3.0|  male|39.0| 31.275|       S|\n",
      "|     0.0|   3.0|female|14.0| 7.8542|       S|\n",
      "|     1.0|   2.0|female|55.0|   16.0|       S|\n",
      "|     0.0|   3.0|  male| 2.0| 29.125|       Q|\n",
      "|     1.0|   2.0|  male|null|   13.0|       S|\n",
      "|     0.0|   3.0|female|31.0|   18.0|       S|\n",
      "|     1.0|   3.0|female|null|  7.225|       C|\n",
      "+--------+------+------+----+-------+--------+\n",
      "only showing top 20 rows\n",
      "\n"
     ]
    }
   ],
   "source": [
    "from pyspark.sql.functions import col\n",
    "data = df.select(col('Survived').cast('float'),\n",
    "                         col('Pclass').cast('float'),\n",
    "                         col('Sex'),\n",
    "                         col('Age').cast('float'),\n",
    "                         col('Fare').cast('float'),\n",
    "                         col('Embarked')\n",
    "                        )\n",
    "data.show()"
   ]
  },
  {
   "cell_type": "markdown",
   "metadata": {},
   "source": [
    "### Check the null values in the datasets"
   ]
  },
  {
   "cell_type": "code",
   "execution_count": 90,
   "metadata": {},
   "outputs": [
    {
     "name": "stdout",
     "output_type": "stream",
     "text": [
      "+--------+------+---+---+----+--------+\n",
      "|Survived|Pclass|Sex|Age|Fare|Embarked|\n",
      "+--------+------+---+---+----+--------+\n",
      "|       0|     0|  0|177|   0|       2|\n",
      "+--------+------+---+---+----+--------+\n",
      "\n"
     ]
    }
   ],
   "source": [
    "from pyspark.sql.functions import isnull, when, count, col\n",
    "data.select([count(when(isnull(c), c)).alias(c) for c in dataset.columns]).show()"
   ]
  },
  {
   "cell_type": "markdown",
   "metadata": {},
   "source": [
    "#### Replace the null values by mean"
   ]
  },
  {
   "cell_type": "code",
   "execution_count": 91,
   "metadata": {},
   "outputs": [
    {
     "name": "stdout",
     "output_type": "stream",
     "text": [
      "+-----------------+\n",
      "|         avg(Age)|\n",
      "+-----------------+\n",
      "|29.69911764705882|\n",
      "+-----------------+\n",
      "\n"
     ]
    }
   ],
   "source": [
    "df.agg(\n",
    "    {'Age': 'mean'}\n",
    ").show()"
   ]
  },
  {
   "cell_type": "code",
   "execution_count": 100,
   "metadata": {},
   "outputs": [],
   "source": [
    "data = data.replace('?', None)\\\n",
    "        .dropna(how='any')\n"
   ]
  },
  {
   "cell_type": "markdown",
   "metadata": {},
   "source": [
    "### Run the code again to check the null values in the Age column"
   ]
  },
  {
   "cell_type": "code",
   "execution_count": 101,
   "metadata": {},
   "outputs": [
    {
     "name": "stdout",
     "output_type": "stream",
     "text": [
      "+--------+------+---+---+----+--------+\n",
      "|Survived|Pclass|Sex|Age|Fare|Embarked|\n",
      "+--------+------+---+---+----+--------+\n",
      "|       0|     0|  0|  0|   0|       0|\n",
      "+--------+------+---+---+----+--------+\n",
      "\n"
     ]
    }
   ],
   "source": [
    "data.select([count(when(isnull(c), c)).alias(c) for c in dataset.columns]).show()"
   ]
  },
  {
   "cell_type": "markdown",
   "metadata": {},
   "source": [
    "### Handling of data types\n",
    "+ The ML model is only working in numeric data.\n",
    "+ So we have to change the datatypes of string and catagorical before moving ahead"
   ]
  },
  {
   "cell_type": "code",
   "execution_count": 102,
   "metadata": {},
   "outputs": [
    {
     "name": "stdout",
     "output_type": "stream",
     "text": [
      "+--------+------+------+----+-------+--------+------+-------+\n",
      "|Survived|Pclass|   Sex| Age|   Fare|Embarked|Gender|Boarded|\n",
      "+--------+------+------+----+-------+--------+------+-------+\n",
      "|     0.0|   3.0|  male|22.0|   7.25|       S|   0.0|    0.0|\n",
      "|     1.0|   1.0|female|38.0|71.2833|       C|   1.0|    1.0|\n",
      "|     1.0|   3.0|female|26.0|  7.925|       S|   1.0|    0.0|\n",
      "|     1.0|   1.0|female|35.0|   53.1|       S|   1.0|    0.0|\n",
      "|     0.0|   3.0|  male|35.0|   8.05|       S|   0.0|    0.0|\n",
      "|     0.0|   3.0|  male|29.7| 8.4583|       Q|   0.0|    2.0|\n",
      "|     0.0|   1.0|  male|54.0|51.8625|       S|   0.0|    0.0|\n",
      "|     0.0|   3.0|  male| 2.0| 21.075|       S|   0.0|    0.0|\n",
      "|     1.0|   3.0|female|27.0|11.1333|       S|   1.0|    0.0|\n",
      "|     1.0|   2.0|female|14.0|30.0708|       C|   1.0|    1.0|\n",
      "|     1.0|   3.0|female| 4.0|   16.7|       S|   1.0|    0.0|\n",
      "|     1.0|   1.0|female|58.0|  26.55|       S|   1.0|    0.0|\n",
      "|     0.0|   3.0|  male|20.0|   8.05|       S|   0.0|    0.0|\n",
      "|     0.0|   3.0|  male|39.0| 31.275|       S|   0.0|    0.0|\n",
      "|     0.0|   3.0|female|14.0| 7.8542|       S|   1.0|    0.0|\n",
      "|     1.0|   2.0|female|55.0|   16.0|       S|   1.0|    0.0|\n",
      "|     0.0|   3.0|  male| 2.0| 29.125|       Q|   0.0|    2.0|\n",
      "|     1.0|   2.0|  male|29.7|   13.0|       S|   0.0|    0.0|\n",
      "|     0.0|   3.0|female|31.0|   18.0|       S|   1.0|    0.0|\n",
      "|     1.0|   3.0|female|29.7|  7.225|       C|   1.0|    1.0|\n",
      "+--------+------+------+----+-------+--------+------+-------+\n",
      "only showing top 20 rows\n",
      "\n"
     ]
    }
   ],
   "source": [
    "from pyspark.ml.feature import StringIndexer\n",
    "data = StringIndexer(\n",
    "    inputCol='Sex', \n",
    "    outputCol='Gender', \n",
    "    handleInvalid='keep').fit(dataset).transform(data)\n",
    "data= StringIndexer(\n",
    "    inputCol='Embarked', \n",
    "    outputCol='Boarded', \n",
    "    handleInvalid='keep').fit(dataset).transform(data)\n",
    "data.show()"
   ]
  },
  {
   "cell_type": "code",
   "execution_count": 103,
   "metadata": {},
   "outputs": [
    {
     "data": {
      "text/plain": [
       "[('Survived', 'float'),\n",
       " ('Pclass', 'float'),\n",
       " ('Sex', 'string'),\n",
       " ('Age', 'float'),\n",
       " ('Fare', 'float'),\n",
       " ('Embarked', 'string'),\n",
       " ('Gender', 'double'),\n",
       " ('Boarded', 'double')]"
      ]
     },
     "execution_count": 103,
     "metadata": {},
     "output_type": "execute_result"
    }
   ],
   "source": [
    "data.dtypes"
   ]
  },
  {
   "cell_type": "code",
   "execution_count": 105,
   "metadata": {},
   "outputs": [],
   "source": [
    "# Assemble all the features with VectorAssembler\n",
    "required_features = ['Pclass',\n",
    "                    'Age',\n",
    "                    'Fare',\n",
    "                    'Gender',\n",
    "                    'Boarded'\n",
    "                   ]\n",
    "from pyspark.ml.feature import VectorAssembler\n",
    "assembler = VectorAssembler(inputCols=required_features, outputCol='features')\n",
    "final_data = assembler.transform(data)"
   ]
  },
  {
   "cell_type": "code",
   "execution_count": 107,
   "metadata": {},
   "outputs": [
    {
     "name": "stdout",
     "output_type": "stream",
     "text": [
      "+--------+------+------+----+-------+--------+------+-------+--------------------+\n",
      "|Survived|Pclass|   Sex| Age|   Fare|Embarked|Gender|Boarded|            features|\n",
      "+--------+------+------+----+-------+--------+------+-------+--------------------+\n",
      "|     0.0|   3.0|  male|22.0|   7.25|       S|   0.0|    0.0|[3.0,22.0,7.25,0....|\n",
      "|     1.0|   1.0|female|38.0|71.2833|       C|   1.0|    1.0|[1.0,38.0,71.2833...|\n",
      "|     1.0|   3.0|female|26.0|  7.925|       S|   1.0|    0.0|[3.0,26.0,7.92500...|\n",
      "|     1.0|   1.0|female|35.0|   53.1|       S|   1.0|    0.0|[1.0,35.0,53.0999...|\n",
      "|     0.0|   3.0|  male|35.0|   8.05|       S|   0.0|    0.0|[3.0,35.0,8.05000...|\n",
      "|     0.0|   3.0|  male|29.7| 8.4583|       Q|   0.0|    2.0|[3.0,29.700000762...|\n",
      "|     0.0|   1.0|  male|54.0|51.8625|       S|   0.0|    0.0|[1.0,54.0,51.8624...|\n",
      "|     0.0|   3.0|  male| 2.0| 21.075|       S|   0.0|    0.0|[3.0,2.0,21.07500...|\n",
      "|     1.0|   3.0|female|27.0|11.1333|       S|   1.0|    0.0|[3.0,27.0,11.1332...|\n",
      "|     1.0|   2.0|female|14.0|30.0708|       C|   1.0|    1.0|[2.0,14.0,30.0708...|\n",
      "|     1.0|   3.0|female| 4.0|   16.7|       S|   1.0|    0.0|[3.0,4.0,16.70000...|\n",
      "|     1.0|   1.0|female|58.0|  26.55|       S|   1.0|    0.0|[1.0,58.0,26.5499...|\n",
      "|     0.0|   3.0|  male|20.0|   8.05|       S|   0.0|    0.0|[3.0,20.0,8.05000...|\n",
      "|     0.0|   3.0|  male|39.0| 31.275|       S|   0.0|    0.0|[3.0,39.0,31.2749...|\n",
      "|     0.0|   3.0|female|14.0| 7.8542|       S|   1.0|    0.0|[3.0,14.0,7.85419...|\n",
      "|     1.0|   2.0|female|55.0|   16.0|       S|   1.0|    0.0|[2.0,55.0,16.0,1....|\n",
      "|     0.0|   3.0|  male| 2.0| 29.125|       Q|   0.0|    2.0|[3.0,2.0,29.125,0...|\n",
      "|     1.0|   2.0|  male|29.7|   13.0|       S|   0.0|    0.0|[2.0,29.700000762...|\n",
      "|     0.0|   3.0|female|31.0|   18.0|       S|   1.0|    0.0|[3.0,31.0,18.0,1....|\n",
      "|     1.0|   3.0|female|29.7|  7.225|       C|   1.0|    1.0|[3.0,29.700000762...|\n",
      "+--------+------+------+----+-------+--------+------+-------+--------------------+\n",
      "only showing top 20 rows\n",
      "\n"
     ]
    }
   ],
   "source": [
    "final_data.show()"
   ]
  },
  {
   "cell_type": "code",
   "execution_count": 110,
   "metadata": {},
   "outputs": [],
   "source": [
    "final_data =final_data.drop('Sex')"
   ]
  },
  {
   "cell_type": "code",
   "execution_count": 111,
   "metadata": {},
   "outputs": [
    {
     "name": "stdout",
     "output_type": "stream",
     "text": [
      "+--------+------+----+-------+--------+------+-------+--------------------+\n",
      "|Survived|Pclass| Age|   Fare|Embarked|Gender|Boarded|            features|\n",
      "+--------+------+----+-------+--------+------+-------+--------------------+\n",
      "|     0.0|   3.0|22.0|   7.25|       S|   0.0|    0.0|[3.0,22.0,7.25,0....|\n",
      "|     1.0|   1.0|38.0|71.2833|       C|   1.0|    1.0|[1.0,38.0,71.2833...|\n",
      "+--------+------+----+-------+--------+------+-------+--------------------+\n",
      "only showing top 2 rows\n",
      "\n"
     ]
    }
   ],
   "source": [
    "final_data.show(2)"
   ]
  },
  {
   "cell_type": "code",
   "execution_count": 112,
   "metadata": {},
   "outputs": [],
   "source": [
    "final_data =final_data.drop('Embarked')"
   ]
  },
  {
   "cell_type": "code",
   "execution_count": 113,
   "metadata": {},
   "outputs": [
    {
     "name": "stdout",
     "output_type": "stream",
     "text": [
      "+--------+------+----+-------+------+-------+--------------------+\n",
      "|Survived|Pclass| Age|   Fare|Gender|Boarded|            features|\n",
      "+--------+------+----+-------+------+-------+--------------------+\n",
      "|     0.0|   3.0|22.0|   7.25|   0.0|    0.0|[3.0,22.0,7.25,0....|\n",
      "|     1.0|   1.0|38.0|71.2833|   1.0|    1.0|[1.0,38.0,71.2833...|\n",
      "+--------+------+----+-------+------+-------+--------------------+\n",
      "only showing top 2 rows\n",
      "\n"
     ]
    }
   ],
   "source": [
    "final_data.show(2)"
   ]
  },
  {
   "cell_type": "markdown",
   "metadata": {},
   "source": [
    "### Modeling"
   ]
  },
  {
   "cell_type": "code",
   "execution_count": 117,
   "metadata": {},
   "outputs": [],
   "source": [
    "(training_data, test_data) = transformed_data.randomSplit([0.8,0.2])"
   ]
  },
  {
   "cell_type": "code",
   "execution_count": 129,
   "metadata": {},
   "outputs": [],
   "source": [
    "### Now develop a machine learning model\n",
    "from pyspark.ml.classification import RandomForestClassifier\n",
    "rf = RandomForestClassifier(labelCol='Survived', \n",
    "                            featuresCol='features',\n",
    "                            maxDepth=6)"
   ]
  },
  {
   "cell_type": "code",
   "execution_count": 130,
   "metadata": {},
   "outputs": [],
   "source": [
    "model = rf.fit(training_data)"
   ]
  },
  {
   "cell_type": "code",
   "execution_count": 131,
   "metadata": {},
   "outputs": [],
   "source": [
    "predict = model.transform(test_data)"
   ]
  },
  {
   "cell_type": "markdown",
   "metadata": {},
   "source": [
    "### Model Evaluation"
   ]
  },
  {
   "cell_type": "code",
   "execution_count": 132,
   "metadata": {},
   "outputs": [],
   "source": [
    "from pyspark.ml.evaluation import MulticlassClassificationEvaluator\n",
    "evaluator = MulticlassClassificationEvaluator(\n",
    "    labelCol='Survived', \n",
    "    predictionCol='prediction', \n",
    "    metricName='accuracy')"
   ]
  },
  {
   "cell_type": "code",
   "execution_count": 133,
   "metadata": {},
   "outputs": [
    {
     "name": "stdout",
     "output_type": "stream",
     "text": [
      "Test Accuracy =  0.8526315789473684\n"
     ]
    }
   ],
   "source": [
    "accuracy = evaluator.evaluate(predict)\n",
    "print('Test Accuracy = ', accuracy)"
   ]
  },
  {
   "cell_type": "markdown",
   "metadata": {},
   "source": [
    "### References\n",
    "+ http://people.duke.edu/~ccc14/sta-663-2018/notebooks/S15C_Spark_DataFrames.html\n",
    "+ https://towardsdatascience.com/your-first-apache-spark-ml-model-d2bb82b599dd"
   ]
  }
 ],
 "metadata": {
  "kernelspec": {
   "display_name": "Python 3",
   "language": "python",
   "name": "python3"
  },
  "language_info": {
   "codemirror_mode": {
    "name": "ipython",
    "version": 3
   },
   "file_extension": ".py",
   "mimetype": "text/x-python",
   "name": "python",
   "nbconvert_exporter": "python",
   "pygments_lexer": "ipython3",
   "version": "3.8.3"
  }
 },
 "nbformat": 4,
 "nbformat_minor": 4
}
